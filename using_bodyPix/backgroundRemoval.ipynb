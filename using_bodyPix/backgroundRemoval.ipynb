{
 "cells": [
  {
   "cell_type": "code",
   "execution_count": 8,
   "metadata": {},
   "outputs": [
    {
     "name": "stdout",
     "output_type": "stream",
     "text": [
      "Requirement already satisfied: tensorflow==2.10 in .\\envx\\lib\\site-packages (2.10.0)\n",
      "Requirement already satisfied: tensorflow-gpu==2.10 in .\\envx\\lib\\site-packages (2.10.0)\n",
      "Requirement already satisfied: tf_bodypix in .\\envx\\lib\\site-packages (0.4.2)\n",
      "Requirement already satisfied: opencv-python in .\\envx\\lib\\site-packages (4.9.0.80)\n",
      "Requirement already satisfied: tfjs_graph_converter in .\\envx\\lib\\site-packages (1.6.3)\n",
      "Requirement already satisfied: matplotlib in .\\envx\\lib\\site-packages (3.8.4)\n",
      "Requirement already satisfied: absl-py>=1.0.0 in .\\envx\\lib\\site-packages (from tensorflow==2.10) (2.1.0)\n",
      "Requirement already satisfied: astunparse>=1.6.0 in .\\envx\\lib\\site-packages (from tensorflow==2.10) (1.6.3)\n",
      "Requirement already satisfied: flatbuffers>=2.0 in .\\envx\\lib\\site-packages (from tensorflow==2.10) (24.3.25)\n",
      "Requirement already satisfied: gast<=0.4.0,>=0.2.1 in .\\envx\\lib\\site-packages (from tensorflow==2.10) (0.4.0)\n",
      "Requirement already satisfied: google-pasta>=0.1.1 in .\\envx\\lib\\site-packages (from tensorflow==2.10) (0.2.0)\n",
      "Requirement already satisfied: h5py>=2.9.0 in .\\envx\\lib\\site-packages (from tensorflow==2.10) (3.11.0)\n",
      "Requirement already satisfied: keras-preprocessing>=1.1.1 in .\\envx\\lib\\site-packages (from tensorflow==2.10) (1.1.2)\n",
      "Requirement already satisfied: libclang>=13.0.0 in .\\envx\\lib\\site-packages (from tensorflow==2.10) (18.1.1)\n",
      "Requirement already satisfied: numpy>=1.20 in .\\envx\\lib\\site-packages (from tensorflow==2.10) (1.26.4)\n",
      "Requirement already satisfied: opt-einsum>=2.3.2 in .\\envx\\lib\\site-packages (from tensorflow==2.10) (3.3.0)\n",
      "Requirement already satisfied: packaging in .\\envx\\lib\\site-packages (from tensorflow==2.10) (20.9)\n",
      "Requirement already satisfied: protobuf<3.20,>=3.9.2 in .\\envx\\lib\\site-packages (from tensorflow==2.10) (3.19.6)\n",
      "Requirement already satisfied: setuptools in .\\envx\\lib\\site-packages (from tensorflow==2.10) (69.5.1)\n",
      "Requirement already satisfied: six>=1.12.0 in .\\envx\\lib\\site-packages (from tensorflow==2.10) (1.16.0)\n",
      "Requirement already satisfied: termcolor>=1.1.0 in .\\envx\\lib\\site-packages (from tensorflow==2.10) (2.4.0)\n",
      "Requirement already satisfied: typing-extensions>=3.6.6 in .\\envx\\lib\\site-packages (from tensorflow==2.10) (4.11.0)\n",
      "Requirement already satisfied: wrapt>=1.11.0 in c:\\users\\17swa\\appdata\\roaming\\python\\python310\\site-packages (from tensorflow==2.10) (1.14.1)\n",
      "Requirement already satisfied: tensorflow-io-gcs-filesystem>=0.23.1 in .\\envx\\lib\\site-packages (from tensorflow==2.10) (0.31.0)\n",
      "Requirement already satisfied: grpcio<2.0,>=1.24.3 in .\\envx\\lib\\site-packages (from tensorflow==2.10) (1.63.0)\n",
      "Requirement already satisfied: tensorboard<2.11,>=2.10 in .\\envx\\lib\\site-packages (from tensorflow==2.10) (2.10.1)\n",
      "Requirement already satisfied: tensorflow-estimator<2.11,>=2.10.0 in .\\envx\\lib\\site-packages (from tensorflow==2.10) (2.10.0)\n",
      "Requirement already satisfied: keras<2.11,>=2.10.0 in .\\envx\\lib\\site-packages (from tensorflow==2.10) (2.10.0)\n",
      "Requirement already satisfied: requests>=2.26.0 in .\\envx\\lib\\site-packages (from tf_bodypix) (2.31.0)\n",
      "Requirement already satisfied: tensorflowjs>=1.5.2 in .\\envx\\lib\\site-packages (from tfjs_graph_converter) (3.21.0)\n",
      "Requirement already satisfied: contourpy>=1.0.1 in .\\envx\\lib\\site-packages (from matplotlib) (1.2.1)\n",
      "Requirement already satisfied: cycler>=0.10 in .\\envx\\lib\\site-packages (from matplotlib) (0.12.1)\n",
      "Requirement already satisfied: fonttools>=4.22.0 in .\\envx\\lib\\site-packages (from matplotlib) (4.51.0)\n",
      "Requirement already satisfied: kiwisolver>=1.3.1 in .\\envx\\lib\\site-packages (from matplotlib) (1.4.5)\n",
      "Requirement already satisfied: pillow>=8 in .\\envx\\lib\\site-packages (from matplotlib) (10.3.0)\n",
      "Requirement already satisfied: pyparsing>=2.3.1 in .\\envx\\lib\\site-packages (from matplotlib) (3.1.2)\n",
      "Requirement already satisfied: python-dateutil>=2.7 in .\\envx\\lib\\site-packages (from matplotlib) (2.9.0)\n",
      "Requirement already satisfied: wheel<1.0,>=0.23.0 in .\\envx\\lib\\site-packages (from astunparse>=1.6.0->tensorflow==2.10) (0.43.0)\n",
      "Requirement already satisfied: charset-normalizer<4,>=2 in .\\envx\\lib\\site-packages (from requests>=2.26.0->tf_bodypix) (3.3.2)\n",
      "Requirement already satisfied: idna<4,>=2.5 in .\\envx\\lib\\site-packages (from requests>=2.26.0->tf_bodypix) (3.7)\n",
      "Requirement already satisfied: urllib3<3,>=1.21.1 in .\\envx\\lib\\site-packages (from requests>=2.26.0->tf_bodypix) (2.2.1)\n",
      "Requirement already satisfied: certifi>=2017.4.17 in .\\envx\\lib\\site-packages (from requests>=2.26.0->tf_bodypix) (2024.2.2)\n",
      "Requirement already satisfied: google-auth<3,>=1.6.3 in .\\envx\\lib\\site-packages (from tensorboard<2.11,>=2.10->tensorflow==2.10) (2.29.0)\n",
      "Requirement already satisfied: google-auth-oauthlib<0.5,>=0.4.1 in .\\envx\\lib\\site-packages (from tensorboard<2.11,>=2.10->tensorflow==2.10) (0.4.6)\n",
      "Requirement already satisfied: markdown>=2.6.8 in .\\envx\\lib\\site-packages (from tensorboard<2.11,>=2.10->tensorflow==2.10) (3.6)\n",
      "Requirement already satisfied: tensorboard-data-server<0.7.0,>=0.6.0 in .\\envx\\lib\\site-packages (from tensorboard<2.11,>=2.10->tensorflow==2.10) (0.6.1)\n",
      "Requirement already satisfied: tensorboard-plugin-wit>=1.6.0 in .\\envx\\lib\\site-packages (from tensorboard<2.11,>=2.10->tensorflow==2.10) (1.8.1)\n",
      "Requirement already satisfied: werkzeug>=1.0.1 in .\\envx\\lib\\site-packages (from tensorboard<2.11,>=2.10->tensorflow==2.10) (3.0.3)\n",
      "Requirement already satisfied: flax>=0.5.3 in .\\envx\\lib\\site-packages (from tensorflowjs>=1.5.2->tfjs_graph_converter) (0.8.3)\n",
      "Requirement already satisfied: importlib_resources>=5.9.0 in .\\envx\\lib\\site-packages (from tensorflowjs>=1.5.2->tfjs_graph_converter) (6.4.0)\n",
      "Requirement already satisfied: jax>=0.3.16 in .\\envx\\lib\\site-packages (from tensorflowjs>=1.5.2->tfjs_graph_converter) (0.4.27)\n",
      "Requirement already satisfied: tensorflow-hub<0.13,>=0.7.0 in .\\envx\\lib\\site-packages (from tensorflowjs>=1.5.2->tfjs_graph_converter) (0.12.0)\n",
      "Requirement already satisfied: msgpack in .\\envx\\lib\\site-packages (from flax>=0.5.3->tensorflowjs>=1.5.2->tfjs_graph_converter) (1.0.8)\n",
      "Requirement already satisfied: optax in .\\envx\\lib\\site-packages (from flax>=0.5.3->tensorflowjs>=1.5.2->tfjs_graph_converter) (0.2.2)\n",
      "Requirement already satisfied: orbax-checkpoint in .\\envx\\lib\\site-packages (from flax>=0.5.3->tensorflowjs>=1.5.2->tfjs_graph_converter) (0.5.10)\n",
      "Requirement already satisfied: tensorstore in .\\envx\\lib\\site-packages (from flax>=0.5.3->tensorflowjs>=1.5.2->tfjs_graph_converter) (0.1.59)\n",
      "Requirement already satisfied: rich>=11.1 in .\\envx\\lib\\site-packages (from flax>=0.5.3->tensorflowjs>=1.5.2->tfjs_graph_converter) (13.7.1)\n",
      "Requirement already satisfied: PyYAML>=5.4.1 in .\\envx\\lib\\site-packages (from flax>=0.5.3->tensorflowjs>=1.5.2->tfjs_graph_converter) (6.0.1)\n",
      "Requirement already satisfied: cachetools<6.0,>=2.0.0 in .\\envx\\lib\\site-packages (from google-auth<3,>=1.6.3->tensorboard<2.11,>=2.10->tensorflow==2.10) (5.3.3)\n",
      "Requirement already satisfied: pyasn1-modules>=0.2.1 in .\\envx\\lib\\site-packages (from google-auth<3,>=1.6.3->tensorboard<2.11,>=2.10->tensorflow==2.10) (0.4.0)\n",
      "Requirement already satisfied: rsa<5,>=3.1.4 in .\\envx\\lib\\site-packages (from google-auth<3,>=1.6.3->tensorboard<2.11,>=2.10->tensorflow==2.10) (4.9)\n",
      "Requirement already satisfied: requests-oauthlib>=0.7.0 in .\\envx\\lib\\site-packages (from google-auth-oauthlib<0.5,>=0.4.1->tensorboard<2.11,>=2.10->tensorflow==2.10) (2.0.0)\n",
      "Requirement already satisfied: ml-dtypes>=0.2.0 in .\\envx\\lib\\site-packages (from jax>=0.3.16->tensorflowjs>=1.5.2->tfjs_graph_converter) (0.4.0)\n",
      "Requirement already satisfied: scipy>=1.9 in .\\envx\\lib\\site-packages (from jax>=0.3.16->tensorflowjs>=1.5.2->tfjs_graph_converter) (1.13.0)\n",
      "Requirement already satisfied: MarkupSafe>=2.1.1 in .\\envx\\lib\\site-packages (from werkzeug>=1.0.1->tensorboard<2.11,>=2.10->tensorflow==2.10) (2.1.5)\n",
      "Requirement already satisfied: pyasn1<0.7.0,>=0.4.6 in .\\envx\\lib\\site-packages (from pyasn1-modules>=0.2.1->google-auth<3,>=1.6.3->tensorboard<2.11,>=2.10->tensorflow==2.10) (0.6.0)\n",
      "Requirement already satisfied: oauthlib>=3.0.0 in .\\envx\\lib\\site-packages (from requests-oauthlib>=0.7.0->google-auth-oauthlib<0.5,>=0.4.1->tensorboard<2.11,>=2.10->tensorflow==2.10) (3.2.2)\n",
      "Requirement already satisfied: markdown-it-py>=2.2.0 in .\\envx\\lib\\site-packages (from rich>=11.1->flax>=0.5.3->tensorflowjs>=1.5.2->tfjs_graph_converter) (3.0.0)\n",
      "Requirement already satisfied: pygments<3.0.0,>=2.13.0 in .\\envx\\lib\\site-packages (from rich>=11.1->flax>=0.5.3->tensorflowjs>=1.5.2->tfjs_graph_converter) (2.18.0)\n",
      "Requirement already satisfied: chex>=0.1.86 in .\\envx\\lib\\site-packages (from optax->flax>=0.5.3->tensorflowjs>=1.5.2->tfjs_graph_converter) (0.1.86)\n",
      "Requirement already satisfied: jaxlib>=0.1.37 in .\\envx\\lib\\site-packages (from optax->flax>=0.5.3->tensorflowjs>=1.5.2->tfjs_graph_converter) (0.4.27)\n",
      "Requirement already satisfied: etils[epath,epy] in .\\envx\\lib\\site-packages (from orbax-checkpoint->flax>=0.5.3->tensorflowjs>=1.5.2->tfjs_graph_converter) (1.7.0)\n",
      "Requirement already satisfied: nest_asyncio in .\\envx\\lib\\site-packages (from orbax-checkpoint->flax>=0.5.3->tensorflowjs>=1.5.2->tfjs_graph_converter) (1.6.0)\n",
      "Requirement already satisfied: toolz>=0.9.0 in .\\envx\\lib\\site-packages (from chex>=0.1.86->optax->flax>=0.5.3->tensorflowjs>=1.5.2->tfjs_graph_converter) (0.12.1)\n",
      "Requirement already satisfied: mdurl~=0.1 in .\\envx\\lib\\site-packages (from markdown-it-py>=2.2.0->rich>=11.1->flax>=0.5.3->tensorflowjs>=1.5.2->tfjs_graph_converter) (0.1.2)\n",
      "Requirement already satisfied: fsspec in .\\envx\\lib\\site-packages (from etils[epath,epy]->orbax-checkpoint->flax>=0.5.3->tensorflowjs>=1.5.2->tfjs_graph_converter) (2024.3.1)\n",
      "Requirement already satisfied: zipp in .\\envx\\lib\\site-packages (from etils[epath,epy]->orbax-checkpoint->flax>=0.5.3->tensorflowjs>=1.5.2->tfjs_graph_converter) (3.17.0)\n"
     ]
    }
   ],
   "source": [
    "!pip install tensorflow==2.10 tensorflow-gpu==2.10 tf_bodypix opencv-python tfjs_graph_converter matplotlib"
   ]
  },
  {
   "cell_type": "code",
   "execution_count": 9,
   "metadata": {},
   "outputs": [],
   "source": [
    "import tensorflow as tf\n",
    "from tf_bodypix.api import download_model, load_model, BodyPixModelPaths\n",
    "import cv2\n",
    "from matplotlib import pyplot as plt\n",
    "import numpy as np\n",
    "import os"
   ]
  },
  {
   "cell_type": "code",
   "execution_count": null,
   "metadata": {},
   "outputs": [],
   "source": []
  },
  {
   "cell_type": "code",
   "execution_count": null,
   "metadata": {},
   "outputs": [],
   "source": []
  },
  {
   "cell_type": "markdown",
   "metadata": {},
   "source": [
    "# Detection Stuff:"
   ]
  },
  {
   "cell_type": "code",
   "execution_count": 17,
   "metadata": {},
   "outputs": [
    {
     "data": {
      "text/plain": [
       "'C:\\\\Users\\\\17swa/.keras\\\\tf-bodypix\\\\0805db47a0763839b9dcd740270d750c--tfjs-models-savedmodel-bodypix-mobilenet-float-100-model-stride16'"
      ]
     },
     "execution_count": 17,
     "metadata": {},
     "output_type": "execute_result"
    }
   ],
   "source": [
    "download_model(BodyPixModelPaths.MOBILENET_FLOAT_100_STRIDE_16)"
   ]
  },
  {
   "cell_type": "code",
   "execution_count": null,
   "metadata": {},
   "outputs": [],
   "source": [
    "'C:/Users/17swa/.keras/tf-bodypix/0805db47a0763839b9dcd740270d750c--tfjs-models-savedmodel-bodypix-mobilenet-float-100-model-stride16'"
   ]
  },
  {
   "cell_type": "code",
   "execution_count": 23,
   "metadata": {},
   "outputs": [
    {
     "ename": "ImportError",
     "evalue": "tfjs_graph_converter required",
     "output_type": "error",
     "traceback": [
      "\u001b[1;31m---------------------------------------------------------------------------\u001b[0m",
      "\u001b[1;31mOSError\u001b[0m                                   Traceback (most recent call last)",
      "File \u001b[1;32me:\\body_segmentation\\envx\\lib\\site-packages\\tf_bodypix\\model.py:577\u001b[0m, in \u001b[0;36mload_model_and_get_predict_function\u001b[1;34m(model_path)\u001b[0m\n\u001b[0;32m    576\u001b[0m \u001b[38;5;28;01mtry\u001b[39;00m:\n\u001b[1;32m--> 577\u001b[0m     \u001b[38;5;28;01mreturn\u001b[39;00m \u001b[43mload_using_saved_model_and_get_predict_function\u001b[49m\u001b[43m(\u001b[49m\u001b[43mmodel_path\u001b[49m\u001b[43m)\u001b[49m\n\u001b[0;32m    578\u001b[0m \u001b[38;5;28;01mexcept\u001b[39;00m \u001b[38;5;167;01mOSError\u001b[39;00m:\n",
      "File \u001b[1;32me:\\body_segmentation\\envx\\lib\\site-packages\\tf_bodypix\\model.py:550\u001b[0m, in \u001b[0;36mload_using_saved_model_and_get_predict_function\u001b[1;34m(model_path)\u001b[0m\n\u001b[0;32m    549\u001b[0m \u001b[38;5;28;01mdef\u001b[39;00m \u001b[38;5;21mload_using_saved_model_and_get_predict_function\u001b[39m(model_path):\n\u001b[1;32m--> 550\u001b[0m     loaded \u001b[38;5;241m=\u001b[39m \u001b[43mtf\u001b[49m\u001b[38;5;241;43m.\u001b[39;49m\u001b[43msaved_model\u001b[49m\u001b[38;5;241;43m.\u001b[39;49m\u001b[43mload\u001b[49m\u001b[43m(\u001b[49m\u001b[43mmodel_path\u001b[49m\u001b[43m)\u001b[49m\n\u001b[0;32m    551\u001b[0m     LOGGER\u001b[38;5;241m.\u001b[39mdebug(\u001b[38;5;124m'\u001b[39m\u001b[38;5;124mloaded: \u001b[39m\u001b[38;5;132;01m%s\u001b[39;00m\u001b[38;5;124m'\u001b[39m, loaded)\n",
      "File \u001b[1;32me:\\body_segmentation\\envx\\lib\\site-packages\\tensorflow\\python\\saved_model\\load.py:800\u001b[0m, in \u001b[0;36mload\u001b[1;34m(export_dir, tags, options)\u001b[0m\n\u001b[0;32m    799\u001b[0m   export_dir \u001b[38;5;241m=\u001b[39m os\u001b[38;5;241m.\u001b[39mfspath(export_dir)\n\u001b[1;32m--> 800\u001b[0m result \u001b[38;5;241m=\u001b[39m \u001b[43mload_partial\u001b[49m\u001b[43m(\u001b[49m\u001b[43mexport_dir\u001b[49m\u001b[43m,\u001b[49m\u001b[43m \u001b[49m\u001b[38;5;28;43;01mNone\u001b[39;49;00m\u001b[43m,\u001b[49m\u001b[43m \u001b[49m\u001b[43mtags\u001b[49m\u001b[43m,\u001b[49m\u001b[43m \u001b[49m\u001b[43moptions\u001b[49m\u001b[43m)\u001b[49m[\u001b[38;5;124m\"\u001b[39m\u001b[38;5;124mroot\u001b[39m\u001b[38;5;124m\"\u001b[39m]\n\u001b[0;32m    801\u001b[0m \u001b[38;5;28;01mreturn\u001b[39;00m result\n",
      "File \u001b[1;32me:\\body_segmentation\\envx\\lib\\site-packages\\tensorflow\\python\\saved_model\\load.py:905\u001b[0m, in \u001b[0;36mload_partial\u001b[1;34m(export_dir, filters, tags, options)\u001b[0m\n\u001b[0;32m    903\u001b[0m   tags \u001b[38;5;241m=\u001b[39m nest\u001b[38;5;241m.\u001b[39mflatten(tags)\n\u001b[0;32m    904\u001b[0m saved_model_proto, debug_info \u001b[38;5;241m=\u001b[39m (\n\u001b[1;32m--> 905\u001b[0m     \u001b[43mloader_impl\u001b[49m\u001b[38;5;241;43m.\u001b[39;49m\u001b[43mparse_saved_model_with_debug_info\u001b[49m\u001b[43m(\u001b[49m\u001b[43mexport_dir\u001b[49m\u001b[43m)\u001b[49m)\n\u001b[0;32m    907\u001b[0m \u001b[38;5;28;01mif\u001b[39;00m (\u001b[38;5;28mlen\u001b[39m(saved_model_proto\u001b[38;5;241m.\u001b[39mmeta_graphs) \u001b[38;5;241m==\u001b[39m \u001b[38;5;241m1\u001b[39m \u001b[38;5;129;01mand\u001b[39;00m\n\u001b[0;32m    908\u001b[0m     saved_model_proto\u001b[38;5;241m.\u001b[39mmeta_graphs[\u001b[38;5;241m0\u001b[39m]\u001b[38;5;241m.\u001b[39mHasField(\u001b[38;5;124m\"\u001b[39m\u001b[38;5;124mobject_graph_def\u001b[39m\u001b[38;5;124m\"\u001b[39m)):\n",
      "File \u001b[1;32me:\\body_segmentation\\envx\\lib\\site-packages\\tensorflow\\python\\saved_model\\loader_impl.py:57\u001b[0m, in \u001b[0;36mparse_saved_model_with_debug_info\u001b[1;34m(export_dir)\u001b[0m\n\u001b[0;32m     45\u001b[0m \u001b[38;5;250m\u001b[39m\u001b[38;5;124;03m\"\"\"Reads the savedmodel as well as the graph debug info.\u001b[39;00m\n\u001b[0;32m     46\u001b[0m \n\u001b[0;32m     47\u001b[0m \u001b[38;5;124;03mArgs:\u001b[39;00m\n\u001b[1;32m   (...)\u001b[0m\n\u001b[0;32m     55\u001b[0m \u001b[38;5;124;03m  parsed. Missing graph debug info file is fine.\u001b[39;00m\n\u001b[0;32m     56\u001b[0m \u001b[38;5;124;03m\"\"\"\u001b[39;00m\n\u001b[1;32m---> 57\u001b[0m saved_model \u001b[38;5;241m=\u001b[39m \u001b[43mparse_saved_model\u001b[49m\u001b[43m(\u001b[49m\u001b[43mexport_dir\u001b[49m\u001b[43m)\u001b[49m\n\u001b[0;32m     59\u001b[0m debug_info_path \u001b[38;5;241m=\u001b[39m file_io\u001b[38;5;241m.\u001b[39mjoin(\n\u001b[0;32m     60\u001b[0m     saved_model_utils\u001b[38;5;241m.\u001b[39mget_debug_dir(export_dir),\n\u001b[0;32m     61\u001b[0m     constants\u001b[38;5;241m.\u001b[39mDEBUG_INFO_FILENAME_PB)\n",
      "File \u001b[1;32me:\\body_segmentation\\envx\\lib\\site-packages\\tensorflow\\python\\saved_model\\loader_impl.py:115\u001b[0m, in \u001b[0;36mparse_saved_model\u001b[1;34m(export_dir)\u001b[0m\n\u001b[0;32m    114\u001b[0m \u001b[38;5;28;01melse\u001b[39;00m:\n\u001b[1;32m--> 115\u001b[0m   \u001b[38;5;28;01mraise\u001b[39;00m \u001b[38;5;167;01mIOError\u001b[39;00m(\n\u001b[0;32m    116\u001b[0m       \u001b[38;5;124mf\u001b[39m\u001b[38;5;124m\"\u001b[39m\u001b[38;5;124mSavedModel file does not exist at: \u001b[39m\u001b[38;5;132;01m{\u001b[39;00mexport_dir\u001b[38;5;132;01m}\u001b[39;00m\u001b[38;5;132;01m{\u001b[39;00mos\u001b[38;5;241m.\u001b[39mpath\u001b[38;5;241m.\u001b[39msep\u001b[38;5;132;01m}\u001b[39;00m\u001b[38;5;124m\"\u001b[39m\n\u001b[0;32m    117\u001b[0m       \u001b[38;5;124mf\u001b[39m\u001b[38;5;124m\"\u001b[39m\u001b[38;5;130;01m{{\u001b[39;00m\u001b[38;5;132;01m{\u001b[39;00mconstants\u001b[38;5;241m.\u001b[39mSAVED_MODEL_FILENAME_PBTXT\u001b[38;5;132;01m}\u001b[39;00m\u001b[38;5;124m|\u001b[39m\u001b[38;5;124m\"\u001b[39m\n\u001b[0;32m    118\u001b[0m       \u001b[38;5;124mf\u001b[39m\u001b[38;5;124m\"\u001b[39m\u001b[38;5;132;01m{\u001b[39;00mconstants\u001b[38;5;241m.\u001b[39mSAVED_MODEL_FILENAME_PB\u001b[38;5;132;01m}\u001b[39;00m\u001b[38;5;130;01m}}\u001b[39;00m\u001b[38;5;124m\"\u001b[39m)\n",
      "\u001b[1;31mOSError\u001b[0m: SavedModel file does not exist at: C:/Users/17swa/.keras/tf-bodypix/0805db47a0763839b9dcd740270d750c--tfjs-models-savedmodel-bodypix-mobilenet-float-100-model-stride16/model.json\\{saved_model.pbtxt|saved_model.pb}",
      "\nDuring handling of the above exception, another exception occurred:\n",
      "\u001b[1;31mImportError\u001b[0m                               Traceback (most recent call last)",
      "Cell \u001b[1;32mIn[23], line 1\u001b[0m\n\u001b[1;32m----> 1\u001b[0m \u001b[43mload_model\u001b[49m\u001b[43m(\u001b[49m\u001b[38;5;124;43m'\u001b[39;49m\u001b[38;5;124;43mC:/Users/17swa/.keras/tf-bodypix/0805db47a0763839b9dcd740270d750c--tfjs-models-savedmodel-bodypix-mobilenet-float-100-model-stride16/model.json\u001b[39;49m\u001b[38;5;124;43m'\u001b[39;49m\u001b[43m)\u001b[49m\n",
      "File \u001b[1;32me:\\body_segmentation\\envx\\lib\\site-packages\\tf_bodypix\\model.py:608\u001b[0m, in \u001b[0;36mload_model\u001b[1;34m(model_path, output_stride, architecture_name, **kwargs)\u001b[0m\n\u001b[0;32m    606\u001b[0m \u001b[38;5;28;01mif\u001b[39;00m \u001b[38;5;129;01mnot\u001b[39;00m architecture_name:\n\u001b[0;32m    607\u001b[0m     architecture_name \u001b[38;5;241m=\u001b[39m get_architecture_from_model_path(model_path)\n\u001b[1;32m--> 608\u001b[0m predict_fn \u001b[38;5;241m=\u001b[39m \u001b[43mload_model_and_get_predict_function\u001b[49m\u001b[43m(\u001b[49m\u001b[43mmodel_path\u001b[49m\u001b[43m)\u001b[49m\n\u001b[0;32m    609\u001b[0m architecture_wrapper: BodyPixArchitecture\n\u001b[0;32m    610\u001b[0m \u001b[38;5;28;01mif\u001b[39;00m architecture_name \u001b[38;5;241m==\u001b[39m ModelArchitectureNames\u001b[38;5;241m.\u001b[39mMOBILENET_V1:\n",
      "File \u001b[1;32me:\\body_segmentation\\envx\\lib\\site-packages\\tf_bodypix\\model.py:579\u001b[0m, in \u001b[0;36mload_model_and_get_predict_function\u001b[1;34m(model_path)\u001b[0m\n\u001b[0;32m    577\u001b[0m     \u001b[38;5;28;01mreturn\u001b[39;00m load_using_saved_model_and_get_predict_function(model_path)\n\u001b[0;32m    578\u001b[0m \u001b[38;5;28;01mexcept\u001b[39;00m \u001b[38;5;167;01mOSError\u001b[39;00m:\n\u001b[1;32m--> 579\u001b[0m     \u001b[38;5;28;01mreturn\u001b[39;00m \u001b[43mload_using_tfjs_graph_converter_and_get_predict_function\u001b[49m\u001b[43m(\u001b[49m\u001b[43mmodel_path\u001b[49m\u001b[43m)\u001b[49m\n",
      "File \u001b[1;32me:\\body_segmentation\\envx\\lib\\site-packages\\tf_bodypix\\model.py:562\u001b[0m, in \u001b[0;36mload_using_tfjs_graph_converter_and_get_predict_function\u001b[1;34m(model_path)\u001b[0m\n\u001b[0;32m    558\u001b[0m \u001b[38;5;28;01mdef\u001b[39;00m \u001b[38;5;21mload_using_tfjs_graph_converter_and_get_predict_function\u001b[39m(\n\u001b[0;32m    559\u001b[0m     model_path: \u001b[38;5;28mstr\u001b[39m\n\u001b[0;32m    560\u001b[0m ) \u001b[38;5;241m-\u001b[39m\u001b[38;5;241m>\u001b[39m Callable[[np\u001b[38;5;241m.\u001b[39mndarray], \u001b[38;5;28mdict\u001b[39m]:\n\u001b[0;32m    561\u001b[0m     \u001b[38;5;28;01mif\u001b[39;00m tfjs_graph_converter \u001b[38;5;129;01mis\u001b[39;00m \u001b[38;5;28;01mNone\u001b[39;00m:\n\u001b[1;32m--> 562\u001b[0m         \u001b[38;5;28;01mraise\u001b[39;00m \u001b[38;5;167;01mImportError\u001b[39;00m(\u001b[38;5;124m'\u001b[39m\u001b[38;5;124mtfjs_graph_converter required\u001b[39m\u001b[38;5;124m'\u001b[39m)\n\u001b[0;32m    563\u001b[0m     graph \u001b[38;5;241m=\u001b[39m tfjs_graph_converter\u001b[38;5;241m.\u001b[39mapi\u001b[38;5;241m.\u001b[39mload_graph_model(model_path)\n\u001b[0;32m    564\u001b[0m     tf_fn \u001b[38;5;241m=\u001b[39m tfjs_graph_converter\u001b[38;5;241m.\u001b[39mapi\u001b[38;5;241m.\u001b[39mgraph_to_function_v2(graph)\n",
      "\u001b[1;31mImportError\u001b[0m: tfjs_graph_converter required"
     ]
    }
   ],
   "source": [
    "load_model('C:/Users/17swa/.keras/tf-bodypix/0805db47a0763839b9dcd740270d750c--tfjs-models-savedmodel-bodypix-mobilenet-float-100-model-stride16/model.json')"
   ]
  },
  {
   "cell_type": "code",
   "execution_count": 25,
   "metadata": {},
   "outputs": [
    {
     "ename": "ImportError",
     "evalue": "tfjs_graph_converter required",
     "output_type": "error",
     "traceback": [
      "\u001b[1;31m---------------------------------------------------------------------------\u001b[0m",
      "\u001b[1;31mOSError\u001b[0m                                   Traceback (most recent call last)",
      "File \u001b[1;32me:\\body_segmentation\\envx\\lib\\site-packages\\tf_bodypix\\model.py:577\u001b[0m, in \u001b[0;36mload_model_and_get_predict_function\u001b[1;34m(model_path)\u001b[0m\n\u001b[0;32m    576\u001b[0m \u001b[38;5;28;01mtry\u001b[39;00m:\n\u001b[1;32m--> 577\u001b[0m     \u001b[38;5;28;01mreturn\u001b[39;00m \u001b[43mload_using_saved_model_and_get_predict_function\u001b[49m\u001b[43m(\u001b[49m\u001b[43mmodel_path\u001b[49m\u001b[43m)\u001b[49m\n\u001b[0;32m    578\u001b[0m \u001b[38;5;28;01mexcept\u001b[39;00m \u001b[38;5;167;01mOSError\u001b[39;00m:\n",
      "File \u001b[1;32me:\\body_segmentation\\envx\\lib\\site-packages\\tf_bodypix\\model.py:550\u001b[0m, in \u001b[0;36mload_using_saved_model_and_get_predict_function\u001b[1;34m(model_path)\u001b[0m\n\u001b[0;32m    549\u001b[0m \u001b[38;5;28;01mdef\u001b[39;00m \u001b[38;5;21mload_using_saved_model_and_get_predict_function\u001b[39m(model_path):\n\u001b[1;32m--> 550\u001b[0m     loaded \u001b[38;5;241m=\u001b[39m \u001b[43mtf\u001b[49m\u001b[38;5;241;43m.\u001b[39;49m\u001b[43msaved_model\u001b[49m\u001b[38;5;241;43m.\u001b[39;49m\u001b[43mload\u001b[49m\u001b[43m(\u001b[49m\u001b[43mmodel_path\u001b[49m\u001b[43m)\u001b[49m\n\u001b[0;32m    551\u001b[0m     LOGGER\u001b[38;5;241m.\u001b[39mdebug(\u001b[38;5;124m'\u001b[39m\u001b[38;5;124mloaded: \u001b[39m\u001b[38;5;132;01m%s\u001b[39;00m\u001b[38;5;124m'\u001b[39m, loaded)\n",
      "File \u001b[1;32me:\\body_segmentation\\envx\\lib\\site-packages\\tensorflow\\python\\saved_model\\load.py:800\u001b[0m, in \u001b[0;36mload\u001b[1;34m(export_dir, tags, options)\u001b[0m\n\u001b[0;32m    799\u001b[0m   export_dir \u001b[38;5;241m=\u001b[39m os\u001b[38;5;241m.\u001b[39mfspath(export_dir)\n\u001b[1;32m--> 800\u001b[0m result \u001b[38;5;241m=\u001b[39m \u001b[43mload_partial\u001b[49m\u001b[43m(\u001b[49m\u001b[43mexport_dir\u001b[49m\u001b[43m,\u001b[49m\u001b[43m \u001b[49m\u001b[38;5;28;43;01mNone\u001b[39;49;00m\u001b[43m,\u001b[49m\u001b[43m \u001b[49m\u001b[43mtags\u001b[49m\u001b[43m,\u001b[49m\u001b[43m \u001b[49m\u001b[43moptions\u001b[49m\u001b[43m)\u001b[49m[\u001b[38;5;124m\"\u001b[39m\u001b[38;5;124mroot\u001b[39m\u001b[38;5;124m\"\u001b[39m]\n\u001b[0;32m    801\u001b[0m \u001b[38;5;28;01mreturn\u001b[39;00m result\n",
      "File \u001b[1;32me:\\body_segmentation\\envx\\lib\\site-packages\\tensorflow\\python\\saved_model\\load.py:905\u001b[0m, in \u001b[0;36mload_partial\u001b[1;34m(export_dir, filters, tags, options)\u001b[0m\n\u001b[0;32m    903\u001b[0m   tags \u001b[38;5;241m=\u001b[39m nest\u001b[38;5;241m.\u001b[39mflatten(tags)\n\u001b[0;32m    904\u001b[0m saved_model_proto, debug_info \u001b[38;5;241m=\u001b[39m (\n\u001b[1;32m--> 905\u001b[0m     \u001b[43mloader_impl\u001b[49m\u001b[38;5;241;43m.\u001b[39;49m\u001b[43mparse_saved_model_with_debug_info\u001b[49m\u001b[43m(\u001b[49m\u001b[43mexport_dir\u001b[49m\u001b[43m)\u001b[49m)\n\u001b[0;32m    907\u001b[0m \u001b[38;5;28;01mif\u001b[39;00m (\u001b[38;5;28mlen\u001b[39m(saved_model_proto\u001b[38;5;241m.\u001b[39mmeta_graphs) \u001b[38;5;241m==\u001b[39m \u001b[38;5;241m1\u001b[39m \u001b[38;5;129;01mand\u001b[39;00m\n\u001b[0;32m    908\u001b[0m     saved_model_proto\u001b[38;5;241m.\u001b[39mmeta_graphs[\u001b[38;5;241m0\u001b[39m]\u001b[38;5;241m.\u001b[39mHasField(\u001b[38;5;124m\"\u001b[39m\u001b[38;5;124mobject_graph_def\u001b[39m\u001b[38;5;124m\"\u001b[39m)):\n",
      "File \u001b[1;32me:\\body_segmentation\\envx\\lib\\site-packages\\tensorflow\\python\\saved_model\\loader_impl.py:57\u001b[0m, in \u001b[0;36mparse_saved_model_with_debug_info\u001b[1;34m(export_dir)\u001b[0m\n\u001b[0;32m     45\u001b[0m \u001b[38;5;250m\u001b[39m\u001b[38;5;124;03m\"\"\"Reads the savedmodel as well as the graph debug info.\u001b[39;00m\n\u001b[0;32m     46\u001b[0m \n\u001b[0;32m     47\u001b[0m \u001b[38;5;124;03mArgs:\u001b[39;00m\n\u001b[1;32m   (...)\u001b[0m\n\u001b[0;32m     55\u001b[0m \u001b[38;5;124;03m  parsed. Missing graph debug info file is fine.\u001b[39;00m\n\u001b[0;32m     56\u001b[0m \u001b[38;5;124;03m\"\"\"\u001b[39;00m\n\u001b[1;32m---> 57\u001b[0m saved_model \u001b[38;5;241m=\u001b[39m \u001b[43mparse_saved_model\u001b[49m\u001b[43m(\u001b[49m\u001b[43mexport_dir\u001b[49m\u001b[43m)\u001b[49m\n\u001b[0;32m     59\u001b[0m debug_info_path \u001b[38;5;241m=\u001b[39m file_io\u001b[38;5;241m.\u001b[39mjoin(\n\u001b[0;32m     60\u001b[0m     saved_model_utils\u001b[38;5;241m.\u001b[39mget_debug_dir(export_dir),\n\u001b[0;32m     61\u001b[0m     constants\u001b[38;5;241m.\u001b[39mDEBUG_INFO_FILENAME_PB)\n",
      "File \u001b[1;32me:\\body_segmentation\\envx\\lib\\site-packages\\tensorflow\\python\\saved_model\\loader_impl.py:115\u001b[0m, in \u001b[0;36mparse_saved_model\u001b[1;34m(export_dir)\u001b[0m\n\u001b[0;32m    114\u001b[0m \u001b[38;5;28;01melse\u001b[39;00m:\n\u001b[1;32m--> 115\u001b[0m   \u001b[38;5;28;01mraise\u001b[39;00m \u001b[38;5;167;01mIOError\u001b[39;00m(\n\u001b[0;32m    116\u001b[0m       \u001b[38;5;124mf\u001b[39m\u001b[38;5;124m\"\u001b[39m\u001b[38;5;124mSavedModel file does not exist at: \u001b[39m\u001b[38;5;132;01m{\u001b[39;00mexport_dir\u001b[38;5;132;01m}\u001b[39;00m\u001b[38;5;132;01m{\u001b[39;00mos\u001b[38;5;241m.\u001b[39mpath\u001b[38;5;241m.\u001b[39msep\u001b[38;5;132;01m}\u001b[39;00m\u001b[38;5;124m\"\u001b[39m\n\u001b[0;32m    117\u001b[0m       \u001b[38;5;124mf\u001b[39m\u001b[38;5;124m\"\u001b[39m\u001b[38;5;130;01m{{\u001b[39;00m\u001b[38;5;132;01m{\u001b[39;00mconstants\u001b[38;5;241m.\u001b[39mSAVED_MODEL_FILENAME_PBTXT\u001b[38;5;132;01m}\u001b[39;00m\u001b[38;5;124m|\u001b[39m\u001b[38;5;124m\"\u001b[39m\n\u001b[0;32m    118\u001b[0m       \u001b[38;5;124mf\u001b[39m\u001b[38;5;124m\"\u001b[39m\u001b[38;5;132;01m{\u001b[39;00mconstants\u001b[38;5;241m.\u001b[39mSAVED_MODEL_FILENAME_PB\u001b[38;5;132;01m}\u001b[39;00m\u001b[38;5;130;01m}}\u001b[39;00m\u001b[38;5;124m\"\u001b[39m)\n",
      "\u001b[1;31mOSError\u001b[0m: SavedModel file does not exist at: C:\\Users\\17swa/.keras\\tf-bodypix\\8ba301b16e59fd7bda330880a9d70e58--tfjs-models-savedmodel-bodypix-mobilenet-float-050-model-stride16\\{saved_model.pbtxt|saved_model.pb}",
      "\nDuring handling of the above exception, another exception occurred:\n",
      "\u001b[1;31mImportError\u001b[0m                               Traceback (most recent call last)",
      "Cell \u001b[1;32mIn[25], line 1\u001b[0m\n\u001b[1;32m----> 1\u001b[0m \u001b[43mload_model\u001b[49m\u001b[43m(\u001b[49m\u001b[43mdownload_model\u001b[49m\u001b[43m(\u001b[49m\u001b[43mBodyPixModelPaths\u001b[49m\u001b[38;5;241;43m.\u001b[39;49m\u001b[43mMOBILENET_FLOAT_50_STRIDE_16\u001b[49m\u001b[43m)\u001b[49m\u001b[43m,\u001b[49m\u001b[43m \u001b[49m\u001b[43moutput_stride\u001b[49m\u001b[38;5;241;43m=\u001b[39;49m\u001b[38;5;241;43m16\u001b[39;49m\u001b[43m)\u001b[49m\n",
      "File \u001b[1;32me:\\body_segmentation\\envx\\lib\\site-packages\\tf_bodypix\\model.py:608\u001b[0m, in \u001b[0;36mload_model\u001b[1;34m(model_path, output_stride, architecture_name, **kwargs)\u001b[0m\n\u001b[0;32m    606\u001b[0m \u001b[38;5;28;01mif\u001b[39;00m \u001b[38;5;129;01mnot\u001b[39;00m architecture_name:\n\u001b[0;32m    607\u001b[0m     architecture_name \u001b[38;5;241m=\u001b[39m get_architecture_from_model_path(model_path)\n\u001b[1;32m--> 608\u001b[0m predict_fn \u001b[38;5;241m=\u001b[39m \u001b[43mload_model_and_get_predict_function\u001b[49m\u001b[43m(\u001b[49m\u001b[43mmodel_path\u001b[49m\u001b[43m)\u001b[49m\n\u001b[0;32m    609\u001b[0m architecture_wrapper: BodyPixArchitecture\n\u001b[0;32m    610\u001b[0m \u001b[38;5;28;01mif\u001b[39;00m architecture_name \u001b[38;5;241m==\u001b[39m ModelArchitectureNames\u001b[38;5;241m.\u001b[39mMOBILENET_V1:\n",
      "File \u001b[1;32me:\\body_segmentation\\envx\\lib\\site-packages\\tf_bodypix\\model.py:579\u001b[0m, in \u001b[0;36mload_model_and_get_predict_function\u001b[1;34m(model_path)\u001b[0m\n\u001b[0;32m    577\u001b[0m     \u001b[38;5;28;01mreturn\u001b[39;00m load_using_saved_model_and_get_predict_function(model_path)\n\u001b[0;32m    578\u001b[0m \u001b[38;5;28;01mexcept\u001b[39;00m \u001b[38;5;167;01mOSError\u001b[39;00m:\n\u001b[1;32m--> 579\u001b[0m     \u001b[38;5;28;01mreturn\u001b[39;00m \u001b[43mload_using_tfjs_graph_converter_and_get_predict_function\u001b[49m\u001b[43m(\u001b[49m\u001b[43mmodel_path\u001b[49m\u001b[43m)\u001b[49m\n",
      "File \u001b[1;32me:\\body_segmentation\\envx\\lib\\site-packages\\tf_bodypix\\model.py:562\u001b[0m, in \u001b[0;36mload_using_tfjs_graph_converter_and_get_predict_function\u001b[1;34m(model_path)\u001b[0m\n\u001b[0;32m    558\u001b[0m \u001b[38;5;28;01mdef\u001b[39;00m \u001b[38;5;21mload_using_tfjs_graph_converter_and_get_predict_function\u001b[39m(\n\u001b[0;32m    559\u001b[0m     model_path: \u001b[38;5;28mstr\u001b[39m\n\u001b[0;32m    560\u001b[0m ) \u001b[38;5;241m-\u001b[39m\u001b[38;5;241m>\u001b[39m Callable[[np\u001b[38;5;241m.\u001b[39mndarray], \u001b[38;5;28mdict\u001b[39m]:\n\u001b[0;32m    561\u001b[0m     \u001b[38;5;28;01mif\u001b[39;00m tfjs_graph_converter \u001b[38;5;129;01mis\u001b[39;00m \u001b[38;5;28;01mNone\u001b[39;00m:\n\u001b[1;32m--> 562\u001b[0m         \u001b[38;5;28;01mraise\u001b[39;00m \u001b[38;5;167;01mImportError\u001b[39;00m(\u001b[38;5;124m'\u001b[39m\u001b[38;5;124mtfjs_graph_converter required\u001b[39m\u001b[38;5;124m'\u001b[39m)\n\u001b[0;32m    563\u001b[0m     graph \u001b[38;5;241m=\u001b[39m tfjs_graph_converter\u001b[38;5;241m.\u001b[39mapi\u001b[38;5;241m.\u001b[39mload_graph_model(model_path)\n\u001b[0;32m    564\u001b[0m     tf_fn \u001b[38;5;241m=\u001b[39m tfjs_graph_converter\u001b[38;5;241m.\u001b[39mapi\u001b[38;5;241m.\u001b[39mgraph_to_function_v2(graph)\n",
      "\u001b[1;31mImportError\u001b[0m: tfjs_graph_converter required"
     ]
    }
   ],
   "source": [
    "load_model(download_model(BodyPixModelPaths.MOBILENET_FLOAT_50_STRIDE_16), output_stride=16)"
   ]
  },
  {
   "cell_type": "code",
   "execution_count": 11,
   "metadata": {},
   "outputs": [
    {
     "ename": "ImportError",
     "evalue": "tfjs_graph_converter required",
     "output_type": "error",
     "traceback": [
      "\u001b[1;31m---------------------------------------------------------------------------\u001b[0m",
      "\u001b[1;31mOSError\u001b[0m                                   Traceback (most recent call last)",
      "File \u001b[1;32me:\\body_segmentation\\envx\\lib\\site-packages\\tf_bodypix\\model.py:577\u001b[0m, in \u001b[0;36mload_model_and_get_predict_function\u001b[1;34m(model_path)\u001b[0m\n\u001b[0;32m    576\u001b[0m \u001b[38;5;28;01mtry\u001b[39;00m:\n\u001b[1;32m--> 577\u001b[0m     \u001b[38;5;28;01mreturn\u001b[39;00m \u001b[43mload_using_saved_model_and_get_predict_function\u001b[49m\u001b[43m(\u001b[49m\u001b[43mmodel_path\u001b[49m\u001b[43m)\u001b[49m\n\u001b[0;32m    578\u001b[0m \u001b[38;5;28;01mexcept\u001b[39;00m \u001b[38;5;167;01mOSError\u001b[39;00m:\n",
      "File \u001b[1;32me:\\body_segmentation\\envx\\lib\\site-packages\\tf_bodypix\\model.py:550\u001b[0m, in \u001b[0;36mload_using_saved_model_and_get_predict_function\u001b[1;34m(model_path)\u001b[0m\n\u001b[0;32m    549\u001b[0m \u001b[38;5;28;01mdef\u001b[39;00m \u001b[38;5;21mload_using_saved_model_and_get_predict_function\u001b[39m(model_path):\n\u001b[1;32m--> 550\u001b[0m     loaded \u001b[38;5;241m=\u001b[39m \u001b[43mtf\u001b[49m\u001b[38;5;241;43m.\u001b[39;49m\u001b[43msaved_model\u001b[49m\u001b[38;5;241;43m.\u001b[39;49m\u001b[43mload\u001b[49m\u001b[43m(\u001b[49m\u001b[43mmodel_path\u001b[49m\u001b[43m)\u001b[49m\n\u001b[0;32m    551\u001b[0m     LOGGER\u001b[38;5;241m.\u001b[39mdebug(\u001b[38;5;124m'\u001b[39m\u001b[38;5;124mloaded: \u001b[39m\u001b[38;5;132;01m%s\u001b[39;00m\u001b[38;5;124m'\u001b[39m, loaded)\n",
      "File \u001b[1;32me:\\body_segmentation\\envx\\lib\\site-packages\\tensorflow\\python\\saved_model\\load.py:800\u001b[0m, in \u001b[0;36mload\u001b[1;34m(export_dir, tags, options)\u001b[0m\n\u001b[0;32m    799\u001b[0m   export_dir \u001b[38;5;241m=\u001b[39m os\u001b[38;5;241m.\u001b[39mfspath(export_dir)\n\u001b[1;32m--> 800\u001b[0m result \u001b[38;5;241m=\u001b[39m \u001b[43mload_partial\u001b[49m\u001b[43m(\u001b[49m\u001b[43mexport_dir\u001b[49m\u001b[43m,\u001b[49m\u001b[43m \u001b[49m\u001b[38;5;28;43;01mNone\u001b[39;49;00m\u001b[43m,\u001b[49m\u001b[43m \u001b[49m\u001b[43mtags\u001b[49m\u001b[43m,\u001b[49m\u001b[43m \u001b[49m\u001b[43moptions\u001b[49m\u001b[43m)\u001b[49m[\u001b[38;5;124m\"\u001b[39m\u001b[38;5;124mroot\u001b[39m\u001b[38;5;124m\"\u001b[39m]\n\u001b[0;32m    801\u001b[0m \u001b[38;5;28;01mreturn\u001b[39;00m result\n",
      "File \u001b[1;32me:\\body_segmentation\\envx\\lib\\site-packages\\tensorflow\\python\\saved_model\\load.py:905\u001b[0m, in \u001b[0;36mload_partial\u001b[1;34m(export_dir, filters, tags, options)\u001b[0m\n\u001b[0;32m    903\u001b[0m   tags \u001b[38;5;241m=\u001b[39m nest\u001b[38;5;241m.\u001b[39mflatten(tags)\n\u001b[0;32m    904\u001b[0m saved_model_proto, debug_info \u001b[38;5;241m=\u001b[39m (\n\u001b[1;32m--> 905\u001b[0m     \u001b[43mloader_impl\u001b[49m\u001b[38;5;241;43m.\u001b[39;49m\u001b[43mparse_saved_model_with_debug_info\u001b[49m\u001b[43m(\u001b[49m\u001b[43mexport_dir\u001b[49m\u001b[43m)\u001b[49m)\n\u001b[0;32m    907\u001b[0m \u001b[38;5;28;01mif\u001b[39;00m (\u001b[38;5;28mlen\u001b[39m(saved_model_proto\u001b[38;5;241m.\u001b[39mmeta_graphs) \u001b[38;5;241m==\u001b[39m \u001b[38;5;241m1\u001b[39m \u001b[38;5;129;01mand\u001b[39;00m\n\u001b[0;32m    908\u001b[0m     saved_model_proto\u001b[38;5;241m.\u001b[39mmeta_graphs[\u001b[38;5;241m0\u001b[39m]\u001b[38;5;241m.\u001b[39mHasField(\u001b[38;5;124m\"\u001b[39m\u001b[38;5;124mobject_graph_def\u001b[39m\u001b[38;5;124m\"\u001b[39m)):\n",
      "File \u001b[1;32me:\\body_segmentation\\envx\\lib\\site-packages\\tensorflow\\python\\saved_model\\loader_impl.py:57\u001b[0m, in \u001b[0;36mparse_saved_model_with_debug_info\u001b[1;34m(export_dir)\u001b[0m\n\u001b[0;32m     45\u001b[0m \u001b[38;5;250m\u001b[39m\u001b[38;5;124;03m\"\"\"Reads the savedmodel as well as the graph debug info.\u001b[39;00m\n\u001b[0;32m     46\u001b[0m \n\u001b[0;32m     47\u001b[0m \u001b[38;5;124;03mArgs:\u001b[39;00m\n\u001b[1;32m   (...)\u001b[0m\n\u001b[0;32m     55\u001b[0m \u001b[38;5;124;03m  parsed. Missing graph debug info file is fine.\u001b[39;00m\n\u001b[0;32m     56\u001b[0m \u001b[38;5;124;03m\"\"\"\u001b[39;00m\n\u001b[1;32m---> 57\u001b[0m saved_model \u001b[38;5;241m=\u001b[39m \u001b[43mparse_saved_model\u001b[49m\u001b[43m(\u001b[49m\u001b[43mexport_dir\u001b[49m\u001b[43m)\u001b[49m\n\u001b[0;32m     59\u001b[0m debug_info_path \u001b[38;5;241m=\u001b[39m file_io\u001b[38;5;241m.\u001b[39mjoin(\n\u001b[0;32m     60\u001b[0m     saved_model_utils\u001b[38;5;241m.\u001b[39mget_debug_dir(export_dir),\n\u001b[0;32m     61\u001b[0m     constants\u001b[38;5;241m.\u001b[39mDEBUG_INFO_FILENAME_PB)\n",
      "File \u001b[1;32me:\\body_segmentation\\envx\\lib\\site-packages\\tensorflow\\python\\saved_model\\loader_impl.py:115\u001b[0m, in \u001b[0;36mparse_saved_model\u001b[1;34m(export_dir)\u001b[0m\n\u001b[0;32m    114\u001b[0m \u001b[38;5;28;01melse\u001b[39;00m:\n\u001b[1;32m--> 115\u001b[0m   \u001b[38;5;28;01mraise\u001b[39;00m \u001b[38;5;167;01mIOError\u001b[39;00m(\n\u001b[0;32m    116\u001b[0m       \u001b[38;5;124mf\u001b[39m\u001b[38;5;124m\"\u001b[39m\u001b[38;5;124mSavedModel file does not exist at: \u001b[39m\u001b[38;5;132;01m{\u001b[39;00mexport_dir\u001b[38;5;132;01m}\u001b[39;00m\u001b[38;5;132;01m{\u001b[39;00mos\u001b[38;5;241m.\u001b[39mpath\u001b[38;5;241m.\u001b[39msep\u001b[38;5;132;01m}\u001b[39;00m\u001b[38;5;124m\"\u001b[39m\n\u001b[0;32m    117\u001b[0m       \u001b[38;5;124mf\u001b[39m\u001b[38;5;124m\"\u001b[39m\u001b[38;5;130;01m{{\u001b[39;00m\u001b[38;5;132;01m{\u001b[39;00mconstants\u001b[38;5;241m.\u001b[39mSAVED_MODEL_FILENAME_PBTXT\u001b[38;5;132;01m}\u001b[39;00m\u001b[38;5;124m|\u001b[39m\u001b[38;5;124m\"\u001b[39m\n\u001b[0;32m    118\u001b[0m       \u001b[38;5;124mf\u001b[39m\u001b[38;5;124m\"\u001b[39m\u001b[38;5;132;01m{\u001b[39;00mconstants\u001b[38;5;241m.\u001b[39mSAVED_MODEL_FILENAME_PB\u001b[38;5;132;01m}\u001b[39;00m\u001b[38;5;130;01m}}\u001b[39;00m\u001b[38;5;124m\"\u001b[39m)\n",
      "\u001b[1;31mOSError\u001b[0m: SavedModel file does not exist at: C:\\Users\\17swa/.keras\\tf-bodypix\\8ba301b16e59fd7bda330880a9d70e58--tfjs-models-savedmodel-bodypix-mobilenet-float-050-model-stride16\\{saved_model.pbtxt|saved_model.pb}",
      "\nDuring handling of the above exception, another exception occurred:\n",
      "\u001b[1;31mImportError\u001b[0m                               Traceback (most recent call last)",
      "Cell \u001b[1;32mIn[11], line 3\u001b[0m\n\u001b[0;32m      1\u001b[0m \u001b[38;5;66;03m# # load_model('models/m1')\u001b[39;00m\n\u001b[0;32m      2\u001b[0m \u001b[38;5;66;03m# load_model('models/m1')\u001b[39;00m\n\u001b[1;32m----> 3\u001b[0m \u001b[43mload_model\u001b[49m\u001b[43m(\u001b[49m\u001b[43mdownload_model\u001b[49m\u001b[43m(\u001b[49m\u001b[43mBodyPixModelPaths\u001b[49m\u001b[38;5;241;43m.\u001b[39;49m\u001b[43mMOBILENET_FLOAT_50_STRIDE_16\u001b[49m\u001b[43m)\u001b[49m\u001b[43m)\u001b[49m\n",
      "File \u001b[1;32me:\\body_segmentation\\envx\\lib\\site-packages\\tf_bodypix\\model.py:608\u001b[0m, in \u001b[0;36mload_model\u001b[1;34m(model_path, output_stride, architecture_name, **kwargs)\u001b[0m\n\u001b[0;32m    606\u001b[0m \u001b[38;5;28;01mif\u001b[39;00m \u001b[38;5;129;01mnot\u001b[39;00m architecture_name:\n\u001b[0;32m    607\u001b[0m     architecture_name \u001b[38;5;241m=\u001b[39m get_architecture_from_model_path(model_path)\n\u001b[1;32m--> 608\u001b[0m predict_fn \u001b[38;5;241m=\u001b[39m \u001b[43mload_model_and_get_predict_function\u001b[49m\u001b[43m(\u001b[49m\u001b[43mmodel_path\u001b[49m\u001b[43m)\u001b[49m\n\u001b[0;32m    609\u001b[0m architecture_wrapper: BodyPixArchitecture\n\u001b[0;32m    610\u001b[0m \u001b[38;5;28;01mif\u001b[39;00m architecture_name \u001b[38;5;241m==\u001b[39m ModelArchitectureNames\u001b[38;5;241m.\u001b[39mMOBILENET_V1:\n",
      "File \u001b[1;32me:\\body_segmentation\\envx\\lib\\site-packages\\tf_bodypix\\model.py:579\u001b[0m, in \u001b[0;36mload_model_and_get_predict_function\u001b[1;34m(model_path)\u001b[0m\n\u001b[0;32m    577\u001b[0m     \u001b[38;5;28;01mreturn\u001b[39;00m load_using_saved_model_and_get_predict_function(model_path)\n\u001b[0;32m    578\u001b[0m \u001b[38;5;28;01mexcept\u001b[39;00m \u001b[38;5;167;01mOSError\u001b[39;00m:\n\u001b[1;32m--> 579\u001b[0m     \u001b[38;5;28;01mreturn\u001b[39;00m \u001b[43mload_using_tfjs_graph_converter_and_get_predict_function\u001b[49m\u001b[43m(\u001b[49m\u001b[43mmodel_path\u001b[49m\u001b[43m)\u001b[49m\n",
      "File \u001b[1;32me:\\body_segmentation\\envx\\lib\\site-packages\\tf_bodypix\\model.py:562\u001b[0m, in \u001b[0;36mload_using_tfjs_graph_converter_and_get_predict_function\u001b[1;34m(model_path)\u001b[0m\n\u001b[0;32m    558\u001b[0m \u001b[38;5;28;01mdef\u001b[39;00m \u001b[38;5;21mload_using_tfjs_graph_converter_and_get_predict_function\u001b[39m(\n\u001b[0;32m    559\u001b[0m     model_path: \u001b[38;5;28mstr\u001b[39m\n\u001b[0;32m    560\u001b[0m ) \u001b[38;5;241m-\u001b[39m\u001b[38;5;241m>\u001b[39m Callable[[np\u001b[38;5;241m.\u001b[39mndarray], \u001b[38;5;28mdict\u001b[39m]:\n\u001b[0;32m    561\u001b[0m     \u001b[38;5;28;01mif\u001b[39;00m tfjs_graph_converter \u001b[38;5;129;01mis\u001b[39;00m \u001b[38;5;28;01mNone\u001b[39;00m:\n\u001b[1;32m--> 562\u001b[0m         \u001b[38;5;28;01mraise\u001b[39;00m \u001b[38;5;167;01mImportError\u001b[39;00m(\u001b[38;5;124m'\u001b[39m\u001b[38;5;124mtfjs_graph_converter required\u001b[39m\u001b[38;5;124m'\u001b[39m)\n\u001b[0;32m    563\u001b[0m     graph \u001b[38;5;241m=\u001b[39m tfjs_graph_converter\u001b[38;5;241m.\u001b[39mapi\u001b[38;5;241m.\u001b[39mload_graph_model(model_path)\n\u001b[0;32m    564\u001b[0m     tf_fn \u001b[38;5;241m=\u001b[39m tfjs_graph_converter\u001b[38;5;241m.\u001b[39mapi\u001b[38;5;241m.\u001b[39mgraph_to_function_v2(graph)\n",
      "\u001b[1;31mImportError\u001b[0m: tfjs_graph_converter required"
     ]
    }
   ],
   "source": [
    "# # load_model('models/m1')\n",
    "# load_model('models/m1')\n",
    "load_model(download_model(BodyPixModelPaths.MOBILENET_FLOAT_50_STRIDE_16))"
   ]
  }
 ],
 "metadata": {
  "kernelspec": {
   "display_name": "Python 3",
   "language": "python",
   "name": "python3"
  },
  "language_info": {
   "codemirror_mode": {
    "name": "ipython",
    "version": 3
   },
   "file_extension": ".py",
   "mimetype": "text/x-python",
   "name": "python",
   "nbconvert_exporter": "python",
   "pygments_lexer": "ipython3",
   "version": "3.10.14"
  }
 },
 "nbformat": 4,
 "nbformat_minor": 2
}
